{
 "cells": [
  {
   "cell_type": "code",
   "execution_count": 5,
   "metadata": {},
   "outputs": [],
   "source": [
    "import os\n",
    "import numpy as np\n",
    "import nibabel as nib\n",
    "from scipy.ndimage import center_of_mass\n",
    "from scans import *"
   ]
  },
  {
   "cell_type": "code",
   "execution_count": 6,
   "metadata": {},
   "outputs": [],
   "source": [
    "dataset_dir = 'D:\\\\Dosyalar\\\\dataset\\\\Task06_Lung'\n",
    "labels_train_dir = os.path.join(dataset_dir, 'labelsTr')\n"
   ]
  },
  {
   "cell_type": "code",
   "execution_count": 7,
   "metadata": {},
   "outputs": [],
   "source": [
    "with open('tumor_centers.py', 'w') as py_file:\n",
    "    # Loop through each scan number in INDEXES\n",
    "    for scan_number in INDEXES:\n",
    "        # Dynamically access the scan_??? variable using globals()\n",
    "        scan_variable_name = f'scan_{scan_number}'\n",
    "        slice_indexes = globals()[scan_variable_name]\n",
    "\n",
    "        label_file = f'lung_{scan_number}.nii.gz'\n",
    "        label_path = os.path.join(labels_train_dir, label_file)\n",
    "        label = nib.load(label_path).get_fdata()\n",
    "\n",
    "        py_file.write(f'tumor_centers_{scan_number} = [')\n",
    "\n",
    "        for slice_index in slice_indexes:\n",
    "            # Calculate the center of the tumor in the x, y plane\n",
    "            tumor_slice = label[:, :, slice_index]\n",
    "            y, x = center_of_mass(tumor_slice)\n",
    "            py_file.write(f'({x}, {y}), ')\n",
    "\n",
    "        py_file.write(']\\n')"
   ]
  }
 ],
 "metadata": {
  "kernelspec": {
   "display_name": "myenv",
   "language": "python",
   "name": "python3"
  },
  "language_info": {
   "codemirror_mode": {
    "name": "ipython",
    "version": 3
   },
   "file_extension": ".py",
   "mimetype": "text/x-python",
   "name": "python",
   "nbconvert_exporter": "python",
   "pygments_lexer": "ipython3",
   "version": "3.11.4"
  },
  "orig_nbformat": 4
 },
 "nbformat": 4,
 "nbformat_minor": 2
}
