{
 "cells": [
  {
   "cell_type": "code",
   "execution_count": 1,
   "metadata": {},
   "outputs": [],
   "source": [
    "import os\n",
    "import json"
   ]
  },
  {
   "cell_type": "code",
   "execution_count": 2,
   "metadata": {},
   "outputs": [],
   "source": [
    "output_dir = 'D:\\Dosyalar\\dataset\\output_slices'\n"
   ]
  },
  {
   "cell_type": "code",
   "execution_count": 3,
   "metadata": {},
   "outputs": [],
   "source": [
    "\n",
    "indexes = []"
   ]
  },
  {
   "cell_type": "code",
   "execution_count": 4,
   "metadata": {},
   "outputs": [],
   "source": [
    "with open('scans.py', 'w') as py_file:\n",
    "    scan_dirs = [d for d in os.listdir(output_dir) if os.path.isdir(os.path.join(output_dir, d))]\n",
    "    for scan_dir in scan_dirs:\n",
    "        json_path = os.path.join(output_dir, scan_dir, 'slice_indexes.json')\n",
    "        \n",
    "        with open(json_path, 'r') as json_file:\n",
    "            slice_indexes = json.load(json_file)\n",
    "            \n",
    "            scan_number = scan_dir.split(\"_\")[1]\n",
    "            py_file.write(f'scan_{scan_number} = {slice_indexes}\\n')\n",
    "            \n",
    "            indexes.append(scan_number)\n",
    "\n",
    "    py_file.write(f'INDEXES = {indexes}\\n')"
   ]
  }
 ],
 "metadata": {
  "kernelspec": {
   "display_name": "myenv",
   "language": "python",
   "name": "python3"
  },
  "language_info": {
   "codemirror_mode": {
    "name": "ipython",
    "version": 3
   },
   "file_extension": ".py",
   "mimetype": "text/x-python",
   "name": "python",
   "nbconvert_exporter": "python",
   "pygments_lexer": "ipython3",
   "version": "3.11.4"
  },
  "orig_nbformat": 4
 },
 "nbformat": 4,
 "nbformat_minor": 2
}
