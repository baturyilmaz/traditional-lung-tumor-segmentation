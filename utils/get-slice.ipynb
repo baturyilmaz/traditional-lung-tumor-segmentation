{
 "cells": [
  {
   "cell_type": "code",
   "execution_count": 1,
   "metadata": {},
   "outputs": [],
   "source": [
    "import os\n",
    "import json\n",
    "import numpy as np\n",
    "import nibabel as nib\n",
    "import imageio"
   ]
  },
  {
   "cell_type": "code",
   "execution_count": 2,
   "metadata": {},
   "outputs": [],
   "source": [
    "dataset_dir = 'D:\\\\Dosyalar\\\\dataset\\\\Task06_Lung'\n",
    "images_train_dir = os.path.join(dataset_dir, 'imagesTr')\n",
    "labels_train_dir = os.path.join(dataset_dir, 'labelsTr')"
   ]
  },
  {
   "cell_type": "code",
   "execution_count": 3,
   "metadata": {},
   "outputs": [],
   "source": [
    "output_dir = 'D:\\\\Dosyalar\\dataset\\\\output_slices'\n",
    "os.makedirs(output_dir, exist_ok=True)"
   ]
  },
  {
   "cell_type": "code",
   "execution_count": null,
   "metadata": {},
   "outputs": [],
   "source": [
    "label_files = [f for f in os.listdir(labels_train_dir) if f.endswith('.nii.gz') and not f.startswith('._')]"
   ]
  },
  {
   "cell_type": "code",
   "execution_count": null,
   "metadata": {},
   "outputs": [],
   "source": [
    "for label_file in label_files:\n",
    "    label_path = os.path.join(labels_train_dir, label_file)\n",
    "    label = nib.load(label_path).get_fdata()\n",
    "    \n",
    "    scan_number = label_file.split('_')[1].split('.')[0]\n",
    "    \n",
    "    scan_path = os.path.join(images_train_dir, label_file)\n",
    "    if os.path.isfile(scan_path):\n",
    "        ct_scan = nib.load(scan_path).get_fdata()\n",
    "\n",
    "    tumor_slices_indexes = []\n",
    "\n",
    "    # Check if both ct_scan and label are available\n",
    "    if ct_scan is not None and label is not None:\n",
    "        # Check each slice for tumor\n",
    "        for slice_idx in range(label.shape[2]):\n",
    "            if np.any(label[:, :, slice_idx]):  # Check if the label slice contains the tumor\n",
    "                save_path = os.path.join(output_dir, f'scan_{scan_number}', 'label')\n",
    "                os.makedirs(save_path, exist_ok=True)\n",
    "                nib.save(nib.Nifti1Image(label[:, :, slice_idx], np.eye(4)),\n",
    "                         os.path.join(save_path, f'slice_{slice_idx}.nii.gz'))\n",
    "                imageio.imsave(os.path.join(save_path, f'slice_{slice_idx}.png'), label[:, :, slice_idx].astype(np.uint8)*255)\n",
    "\n",
    "                save_path = os.path.join(output_dir, f'scan_{scan_number}', 'train')\n",
    "                os.makedirs(save_path, exist_ok=True)\n",
    "                nib.save(nib.Nifti1Image(ct_scan[:, :, slice_idx], np.eye(4)),\n",
    "                         os.path.join(save_path, f'slice_{slice_idx}.nii.gz'))\n",
    "                imageio.imsave(os.path.join(save_path, f'slice_{slice_idx}.png'), ct_scan[:, :, slice_idx].astype(np.uint8))\n",
    "\n",
    "                # Add slice index to tumor_slices_indexes\n",
    "                tumor_slices_indexes.append(slice_idx)\n",
    "\n",
    "        parent_dir = os.path.join(output_dir, f'scan_{scan_number}')\n",
    "        json_path = os.path.join(parent_dir, 'slice_indexes.json')\n",
    "        with open(json_path, 'w') as json_file:\n",
    "            json.dump(tumor_slices_indexes, json_file)"
   ]
  }
 ],
 "metadata": {
  "kernelspec": {
   "display_name": "myenv",
   "language": "python",
   "name": "python3"
  },
  "language_info": {
   "codemirror_mode": {
    "name": "ipython",
    "version": 3
   },
   "file_extension": ".py",
   "mimetype": "text/x-python",
   "name": "python",
   "nbconvert_exporter": "python",
   "pygments_lexer": "ipython3",
   "version": "3.11.4"
  },
  "orig_nbformat": 4
 },
 "nbformat": 4,
 "nbformat_minor": 2
}
